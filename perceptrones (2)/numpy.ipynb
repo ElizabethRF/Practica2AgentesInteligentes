{
 "cells": [
  {
   "cell_type": "markdown",
   "metadata": {},
   "source": [
    "Intro to numpy\n",
    "\n",
    "Tutorial: https://www.tutorialspoint.com/numpy/index.htm\n",
    "\n",
    "Manual: https://docs.scipy.org/doc/numpy/index.html"
   ]
  },
  {
   "cell_type": "code",
   "execution_count": 2,
   "metadata": {},
   "outputs": [],
   "source": [
    "from IPython.core.interactiveshell import InteractiveShell\n",
    "InteractiveShell.ast_node_interactivity = \"all\""
   ]
  },
  {
   "cell_type": "code",
   "execution_count": 3,
   "metadata": {},
   "outputs": [
    {
     "data": {
      "text/plain": [
       "array([[1, 2, 3],\n",
       "       [4, 5, 6]])"
      ]
     },
     "execution_count": 3,
     "metadata": {},
     "output_type": "execute_result"
    }
   ],
   "source": [
    "import numpy as np # importa numpy\n",
    "\n",
    "a = np.array([[1, 2, 3], [4, 5, 6]]) # crea un array de numpy\n",
    "\n",
    "a"
   ]
  },
  {
   "cell_type": "code",
   "execution_count": 4,
   "metadata": {},
   "outputs": [
    {
     "data": {
      "text/plain": [
       "array([1, 4])"
      ]
     },
     "execution_count": 4,
     "metadata": {},
     "output_type": "execute_result"
    },
    {
     "data": {
      "text/plain": [
       "array([[1],\n",
       "       [4]])"
      ]
     },
     "execution_count": 4,
     "metadata": {},
     "output_type": "execute_result"
    }
   ],
   "source": [
    "# cortar columnas y subarrays\n",
    "\n",
    "b = a[:,0] # corta primera columna, pero como vector fila\n",
    "b\n",
    "\n",
    "c = a[:,[0]] # corta primera columna, pero como vector columna\n",
    "c"
   ]
  },
  {
   "cell_type": "code",
   "execution_count": 5,
   "metadata": {},
   "outputs": [
    {
     "data": {
      "text/plain": [
       "array([[1, 1, 2, 3, 1],\n",
       "       [4, 4, 5, 6, 4]])"
      ]
     },
     "execution_count": 5,
     "metadata": {},
     "output_type": "execute_result"
    }
   ],
   "source": [
    "# componer nuevos arrays a partir de partes de los ya existentes\n",
    "\n",
    "np.hstack((c, a, c))"
   ]
  },
  {
   "cell_type": "code",
   "execution_count": 6,
   "metadata": {},
   "outputs": [
    {
     "data": {
      "text/plain": [
       "array([[1, 4],\n",
       "       [2, 5],\n",
       "       [3, 6]])"
      ]
     },
     "execution_count": 6,
     "metadata": {},
     "output_type": "execute_result"
    },
    {
     "data": {
      "text/plain": [
       "array([[1, 2, 3],\n",
       "       [4, 5, 6]])"
      ]
     },
     "execution_count": 6,
     "metadata": {},
     "output_type": "execute_result"
    },
    {
     "data": {
      "text/plain": [
       "array([[14, 32],\n",
       "       [32, 77]])"
      ]
     },
     "execution_count": 6,
     "metadata": {},
     "output_type": "execute_result"
    }
   ],
   "source": [
    "# operaciones con matrices\n",
    "\n",
    "np.transpose(a) # transpone matriz\n",
    "a\n",
    "\n",
    "np.dot(a,np.transpose(a))"
   ]
  },
  {
   "cell_type": "code",
   "execution_count": 12,
   "metadata": {},
   "outputs": [],
   "source": [
    "# Carga de ficheros de datos\n",
    "X = np.loadtxt('iris.csv',dtype = 'float64',usecols = [0,1,2,3])\n",
    "L = np.loadtxt('iris.csv',dtype = str,usecols = [4]) \n",
    "\n",
    "d = []\n",
    "options = ['Iris-setosa', 'Iris-versicolor', 'Iris-virginica']\n",
    "for e in L:\n",
    "    d.append(options.index(e))\n"
   ]
  },
  {
   "cell_type": "code",
   "execution_count": 44,
   "metadata": {},
   "outputs": [
    {
     "data": {
      "text/plain": [
       "0.7310585786300049"
      ]
     },
     "execution_count": 44,
     "metadata": {},
     "output_type": "execute_result"
    },
    {
     "data": {
      "text/plain": [
       "array([0.5       , 0.62245933, 0.73105858])"
      ]
     },
     "execution_count": 44,
     "metadata": {},
     "output_type": "execute_result"
    }
   ],
   "source": [
    "# Ua cosa importante de numpy es que todas sus operaciones definidas sobre escalares funcionan también sobvre vectores\n",
    "\n",
    "def sigm (neta):\n",
    "        return 1.0 / (1.0 + np.exp(-neta))\n",
    "    \n",
    "sigm(1.0)\n",
    "\n",
    "v = np.array([0.0, 0.5, 1.0])\n",
    "sigm(v)\n",
    "\n",
    "# pero, ojo, no funcionaría sobre una lista; tiene que ser un array de numpy"
   ]
  },
  {
   "cell_type": "code",
   "execution_count": 45,
   "metadata": {},
   "outputs": [
    {
     "data": {
      "text/plain": [
       "array([[0.59308549, 0.80697622, 0.82674778, 0.17789891, 0.72670514],\n",
       "       [0.33927414, 0.3851305 , 0.84584314, 0.55528763, 0.19805892],\n",
       "       [0.57807604, 0.23760809, 0.83944648, 0.55949194, 0.52520068],\n",
       "       [0.72830501, 0.14242442, 0.21669521, 0.97280744, 0.6835506 ],\n",
       "       [0.4794484 , 0.63780926, 0.07739814, 0.11646947, 0.09949443]])"
      ]
     },
     "execution_count": 45,
     "metadata": {},
     "output_type": "execute_result"
    }
   ],
   "source": [
    "# números aleatorios\n",
    "\n",
    "np.random.rand(5,5)"
   ]
  },
  {
   "cell_type": "code",
   "execution_count": 46,
   "metadata": {},
   "outputs": [
    {
     "data": {
      "text/plain": [
       "array([[1, 2, 3],\n",
       "       [4, 5, 6]])"
      ]
     },
     "execution_count": 46,
     "metadata": {},
     "output_type": "execute_result"
    },
    {
     "data": {
      "text/plain": [
       "(2, 3)"
      ]
     },
     "execution_count": 46,
     "metadata": {},
     "output_type": "execute_result"
    }
   ],
   "source": [
    "# obtener y cambiar las dimensiones de una matriz (se usa mucho en redes de neuronas)\n",
    "\n",
    "a\n",
    "\n",
    "np.shape(a)\n"
   ]
  },
  {
   "cell_type": "code",
   "execution_count": 48,
   "metadata": {},
   "outputs": [
    {
     "data": {
      "text/plain": [
       "array([[1, 2],\n",
       "       [3, 4],\n",
       "       [5, 6]])"
      ]
     },
     "execution_count": 48,
     "metadata": {},
     "output_type": "execute_result"
    }
   ],
   "source": [
    "a.reshape(3,2) # ojo, no es transponer"
   ]
  },
  {
   "cell_type": "code",
   "execution_count": 13,
   "metadata": {},
   "outputs": [],
   "source": [
    "a = a.reshape(6,1)"
   ]
  },
  {
   "cell_type": "code",
   "execution_count": 14,
   "metadata": {},
   "outputs": [
    {
     "data": {
      "text/plain": [
       "array([1, 2, 3, 4, 5, 6])"
      ]
     },
     "execution_count": 14,
     "metadata": {},
     "output_type": "execute_result"
    },
    {
     "data": {
      "text/plain": [
       "array([[0.14284721, 0.27794633],\n",
       "       [0.80587913, 0.54329628],\n",
       "       [0.21183155, 0.43202568],\n",
       "       [0.52957646, 0.97335747],\n",
       "       [0.56685476, 0.72340497],\n",
       "       [0.96641102, 0.43041306]])"
      ]
     },
     "execution_count": 14,
     "metadata": {},
     "output_type": "execute_result"
    },
    {
     "data": {
      "text/plain": [
       "array([13.14114593, 12.75354903])"
      ]
     },
     "execution_count": 14,
     "metadata": {},
     "output_type": "execute_result"
    },
    {
     "data": {
      "text/plain": [
       "array([13.14114593, 12.75354903])"
      ]
     },
     "execution_count": 14,
     "metadata": {},
     "output_type": "execute_result"
    }
   ],
   "source": [
    "# convertir un array en un vector\n",
    "# es útil para convertir arrays unidimensionales en vectores y no preocuparnos por sus dimensiones, \n",
    "# ya que podemos multiplicar siempre vectores por matrices si el bnúmero de elementos es correcto\n",
    "# además, el resultado de una matriz por un vector es siempre un vector\n",
    "\n",
    "v = a.flatten()\n",
    "v\n",
    "\n",
    "m = np.random.rand(6,2)\n",
    "m\n",
    "\n",
    "v.dot(m)\n",
    "\n",
    "\n",
    "m.transpose().dot(v)\n"
   ]
  },
  {
   "cell_type": "code",
   "execution_count": 52,
   "metadata": {},
   "outputs": [
    {
     "data": {
      "text/plain": [
       "array([8.70664497, 4.18837378])"
      ]
     },
     "execution_count": 52,
     "metadata": {},
     "output_type": "execute_result"
    },
    {
     "data": {
      "text/plain": [
       "array([8.70664497, 4.18837378])"
      ]
     },
     "execution_count": 52,
     "metadata": {},
     "output_type": "execute_result"
    },
    {
     "data": {
      "text/plain": [
       "array([8.70664497, 4.18837378])"
      ]
     },
     "execution_count": 52,
     "metadata": {},
     "output_type": "execute_result"
    },
    {
     "data": {
      "text/plain": [
       "array([5, 7, 9])"
      ]
     },
     "execution_count": 52,
     "metadata": {},
     "output_type": "execute_result"
    }
   ],
   "source": [
    "# otra cuestión interesante es que dot puede usarse como operando o como método\n",
    "\n",
    "np.dot(v,m)\n",
    "\n",
    "# equivale a\n",
    "\n",
    "v.dot(m)\n",
    "\n",
    "# la ventaja de la primera forma es que puede usarse con listas de python además de con estructuras de numpy\n",
    "\n",
    "np.dot([1, 2, 3, 4, 5, 6],m)\n",
    "\n",
    "np.dot([1, 2],[[1, 1, 1],[2, 3, 4]])\n",
    "\n"
   ]
  },
  {
   "cell_type": "code",
   "execution_count": 53,
   "metadata": {},
   "outputs": [
    {
     "data": {
      "text/plain": [
       "array([ 0.84147098,  0.90929743,  0.14112001, -0.7568025 , -0.95892427,\n",
       "       -0.2794155 ])"
      ]
     },
     "execution_count": 53,
     "metadata": {},
     "output_type": "execute_result"
    },
    {
     "data": {
      "text/plain": [
       "array([[0.44759508, 0.83995962],\n",
       "       [0.01135496, 0.00676645],\n",
       "       [0.09271518, 0.12653232],\n",
       "       [0.15765033, 0.41316186],\n",
       "       [0.34999048, 0.19146392],\n",
       "       [0.79562857, 0.02167396]])"
      ]
     },
     "execution_count": 53,
     "metadata": {},
     "output_type": "execute_result"
    }
   ],
   "source": [
    "# otra cosa importante de numpy es que cualquier función se puede aplicar sobre escalares o tensores\n",
    "\n",
    "np.sin(v)\n",
    "\n",
    "np.sin(m)"
   ]
  },
  {
   "cell_type": "code",
   "execution_count": null,
   "metadata": {},
   "outputs": [],
   "source": []
  }
 ],
 "metadata": {
  "kernelspec": {
   "display_name": "Python 2",
   "language": "python",
   "name": "python2"
  },
  "language_info": {
   "codemirror_mode": {
    "name": "ipython",
    "version": 2
   },
   "file_extension": ".py",
   "mimetype": "text/x-python",
   "name": "python",
   "nbconvert_exporter": "python",
   "pygments_lexer": "ipython2",
   "version": "2.7.10"
  }
 },
 "nbformat": 4,
 "nbformat_minor": 2
}
